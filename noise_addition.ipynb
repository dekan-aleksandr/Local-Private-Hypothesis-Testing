{
 "cells": [
  {
   "cell_type": "code",
   "execution_count": 1,
   "id": "bf6da08a",
   "metadata": {},
   "outputs": [],
   "source": [
    "import numpy as np\n",
    "from numpy import linalg as LA\n",
    "from scipy.stats import chi2, bernoulli, multinomial\n",
    "from tqdm.auto import tqdm\n",
    "import math\n",
    "import matplotlib.pyplot as plt"
   ]
  },
  {
   "cell_type": "code",
   "execution_count": 2,
   "id": "9ac855a3",
   "metadata": {},
   "outputs": [],
   "source": [
    "def sigma_matrix(p_0, sigma, d):\n",
    "    Id = np.eye(d)\n",
    "    IId = np.ones((d,d))/d\n",
    "    Projection_matrix = (Id - IId)\n",
    "    diag_matrix = np.diag(p_0) + np.eye(d)*sigma\n",
    "    M = Projection_matrix @ np.linalg.inv(diag_matrix - np.outer(p_0, p_0)) @ Projection_matrix\n",
    "    return(M)\n",
    "\n",
    "\n",
    "def noise_norm(x, p, alpha, p_0):\n",
    "    H = np.sum(x, axis = 0)\n",
    "    n = len(x)\n",
    "    dim = len(H)\n",
    "    D = np.random.normal(0, np.sqrt(len(x)/p), dim)\n",
    "    H_noise = H + D\n",
    "    q = n * (H_noise/n - p_0).reshape(1, -1) @ sigma_matrix(p_0, n / p, dim) @ (H_noise/n - p_0).reshape(-1,1)\n",
    "    if q > chi2(dim-1).ppf(1 - alpha):\n",
    "        return(1)\n",
    "    else:\n",
    "        return(0)\n",
    "\n",
    "def noise_lap(x, alpha, p_0, eps):\n",
    "    H = np.sum(x, axis = 0)\n",
    "    D = np.sum(np.random.laplace(0, 2 / eps, size=(len(x),len(H))), axis = 0)\n",
    "    H_noise_lap = H + D\n",
    "    M_s = sigma_matrix(p_0, 8 * len(x)/eps**(2), len(H))\n",
    "    q = len(x) * (H_noise_lap/len(x) - p_0).reshape(1, -1) @ M_s @ (H_noise_lap/len(x) - p_0).reshape(-1,1)\n",
    "    ar = []\n",
    "    for i in range(50):\n",
    "        x_0 = np.random.multinomial(1, p0, size=len(x))\n",
    "        H_0 = np.sum(x_0, axis = 0)\n",
    "        D = np.sum(np.random.laplace(0, 2/eps, size=(len(x),len(H))), axis=0)\n",
    "        H_noise_lap = H_0 + D\n",
    "        ar.append(len(x)* (H_noise_lap/len(x) - p_0).reshape(1, -1) @ sigma_matrix(p_0, 8 * len(x)/ eps ** 2, len(H)) @ (H_noise_lap/len(x) - p_0).reshape(-1, 1))   \n",
    "    ar = np.sort(ar)\n",
    "    l = len(ar)+1\n",
    "    v = (1-alpha)\n",
    "    if q > ar[int((l) * v - 1)]:\n",
    "        return(1)\n",
    "    else:\n",
    "        return(0)\n"
   ]
  },
  {
   "cell_type": "code",
   "execution_count": null,
   "id": "799fe90e",
   "metadata": {},
   "outputs": [],
   "source": []
  }
 ],
 "metadata": {
  "kernelspec": {
   "display_name": "Python 3 (ipykernel)",
   "language": "python",
   "name": "python3"
  },
  "language_info": {
   "codemirror_mode": {
    "name": "ipython",
    "version": 3
   },
   "file_extension": ".py",
   "mimetype": "text/x-python",
   "name": "python",
   "nbconvert_exporter": "python",
   "pygments_lexer": "ipython3",
   "version": "3.8.12"
  }
 },
 "nbformat": 4,
 "nbformat_minor": 5
}
