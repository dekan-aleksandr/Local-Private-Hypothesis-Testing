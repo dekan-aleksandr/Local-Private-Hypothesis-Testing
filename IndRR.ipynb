{
  "cells": [
    {
      "cell_type": "code",
      "execution_count": 5,
      "metadata": {
        "id": "jWqSR6M6i2ZK"
      },
      "outputs": [],
      "source": [
        "import numpy as np\n"
      ]
    },
    {
      "cell_type": "code",
      "execution_count": 283,
      "metadata": {
        "id": "vf7q5vpfi2Zh"
      },
      "outputs": [],
      "source": [
        "def probability(epsilon, d, q =2):\n",
        "    return np.exp(epsilon*q)/ (np.exp(epsilon) - 1 + d)\n",
        "def q(x_, x, d):\n",
        "    if np.sum(x == x_) == d :\n",
        "        return 1\n",
        "    else:\n",
        "        return 0\n",
        "    \n",
        "def Rand(xs_in, d, epsilon):\n",
        "    i = np.random.randint(d)\n",
        "    x = np.eye(d)[i]\n",
        "    probs = [probability(epsilon, d, q(x_, x, d)) for x_ in xs_in]\n",
        "    xs_out = []\n",
        "    for j in range(len(xs_in)):\n",
        "        if np.random.random() < probs[j]:\n",
        "            xs_out.append(xs_in[j])\n",
        "        else: \n",
        "            t = np.random.randint(d)\n",
        "            xs_out.append(np.eye(d)[t])\n",
        "    return xs_out\n",
        "\n",
        "def beta(epsilon, r, c):\n",
        "    return 1/(np.exp(epsilon) + r*c - 1)\n",
        "\n",
        "def p_hat(pi_1, pi_2, epsilon):\n",
        "    r = len(pi_1)\n",
        "    c = len(pi_2)\n",
        "\n",
        "    return beta(epsilon, r, c)*((np.exp(epsilon) - 1)* pi_1.T @ pi_2 + 1) \n",
        "\n",
        "def new_pis(pi_1, pi_2, r, c, n, epsilon):\n",
        "    betta = beta(epsilon, r, c)\n",
        "    pi_1_new = 1/betta/(np.exp(epsilon) - 1)*(pi_1/n - c*betta) \n",
        "    pi_2_new = 1/betta/(np.exp(epsilon) - 1)*(pi_2/n - r*betta)\n",
        "#     print(pi_1_new, pi_2_new)\n",
        "    \n",
        "    return np.array(pi_1_new), np.array(pi_2_new)\n",
        "\n",
        "def tau(obs_1, obs_2, r, c, n, epsilon):\n",
        "\n",
        "    H_obs = obs_1.T@ obs_2\n",
        "    pi_1 = np.sum(obs_1, axis =0).reshape((1, -1))\n",
        "    pi_2 = np.sum(obs_2, axis =0).reshape((1, -1))\n",
        "    pi_1_new, pi_2_new = new_pis(pi_1, pi_2, r, c, n, epsilon)\n",
        "#     print(pi_1_new)\n",
        "    p_hats_new = beta(epsilon, r, c)*((np.exp(epsilon) - 1)* pi_1_new.T @ pi_2_new + 1) #p_hat(pi_1_new, pi_2_new, epsilon)\n",
        "#     print(p_hats_new)\n",
        "#     print(np.sum(p_hats_new))\n",
        "\n",
        "    return np.sum((H_obs - p_hats_new*n)**2/n/p_hats_new)\n",
        "\n",
        "def LocalGenRRIND(x, y, r, c, epsilon,n, alpha):\n",
        "    x_rand = np.array(Rand(x, r, epsilon))\n",
        "    y_rand = np.array(Rand(y, c, epsilon))\n",
        "    test = tau(x_rand, y_rand, r, c, n, epsilon)\n",
        "    tre = chi2.ppf(1 - alpha, (r-1)*(c-1))\n",
        "    # print(test)\n",
        "    if test < tre:\n",
        "        return True\n",
        "    else:\n",
        "        return False "
      ]
    },
    {
      "cell_type": "code",
      "source": [
        ""
      ],
      "metadata": {
        "id": "uAzr4ERLc5c-"
      },
      "execution_count": 283,
      "outputs": []
    },
    {
      "cell_type": "code",
      "execution_count": 284,
      "metadata": {
        "id": "j86gTSm_i2Z_"
      },
      "outputs": [],
      "source": [
        "def calculate_power_rand(pi_1, pi_2, epsilon, n, trials, r, c, alp):\n",
        "    rej = 0 \n",
        "    for i in range(trials):\n",
        "        first = np.array([1 if i % 2 == 0 else -1 for i in range(r)]).reshape((-1,1))\n",
        "        second = np.array([1 if i % 2 == 0 else -1 for i in range(c)]).reshape((-1,1))\n",
        "        nu = 0.01\n",
        "        pi_1_ = pi_1.reshape(-1,1) + nu*first\n",
        "        pi_2_ = pi_2.reshape(-1,1) + nu*second\n",
        "        # print(pi_2_)\n",
        "        obs_1 = np.random.multinomial(1, pi_1_.T[0], size=n).reshape((-1, r))\n",
        "        obs_2 = np.random.multinomial(1, pi_2_.T[0], size=n).reshape((-1, c ))\n",
        "        if not LocalGenRRIND(obs_1, obs_2, r, c, epsilon, n, alp):\n",
        "            rej +=1\n",
        "    # print(rej)\n",
        "    return rej/trials"
      ]
    },
    {
      "cell_type": "code",
      "execution_count": 301,
      "metadata": {
        "colab": {
          "base_uri": "https://localhost:8080/"
        },
        "id": "ivKv_MhUi2aB",
        "outputId": "0b8d4bf5-fd0d-40f4-ca8e-478b2ba69b06"
      },
      "outputs": [
        {
          "output_type": "execute_result",
          "data": {
            "text/plain": [
              "8400"
            ]
          },
          "metadata": {},
          "execution_count": 301
        }
      ],
      "source": [
        "from scipy.stats import chi2\n",
        "r = 4\n",
        "c = 2\n",
        "n = 1000\n",
        "trials = 50\n",
        "eps = [4, 5, 6]\n",
        "ns = [(i)*300 for i in range(1, 30, 5)]\n",
        "alp = 0.05\n",
        "pi_1 = np.array([1/r]*r)\n",
        "pi_2 = np.array([1/c]*c)\n"
      ]
    },
    {
      "cell_type": "code",
      "source": [
        "import multiprocessing as mp\n",
        "trials=50\n",
        "pool = mp.Pool(4)\n",
        "epsilon = 4\n",
        "\n",
        "alp = 0.05\n",
        "\n",
        "results_nu_1 = [pool.apply(calculate_power_rand, args=(pi_1, pi_2, epsilon, int(n), trials, r, c, alp)) for n in ns]\n",
        "\n",
        "pool.close()    \n",
        "pool = mp.Pool(4)\n",
        "epsilon = 5\n",
        "\n",
        "results_nu_2 = [pool.apply(calculate_power_rand, args=(pi_1, pi_2, epsilon, int(n), trials, r, c, alp)) for n in ns]\n",
        "\n",
        "pool.close()  \n",
        "pool = mp.Pool(4)\n",
        "epsilon = 6\n",
        "\n",
        "results_nu_4 = [pool.apply(calculate_power_rand, args=(pi_1, pi_2, epsilon, int(n), trials, r, c, alp)) for n in ns]\n",
        "\n",
        "pool.close()  "
      ],
      "metadata": {
        "id": "btLT6a0zpux2"
      },
      "execution_count": 308,
      "outputs": []
    },
    {
      "cell_type": "code",
      "source": [
        "import matplotlib.pyplot as plt\n",
        "from matplotlib.pyplot import figure\n",
        "\n",
        "figure(figsize=(8, 6), dpi=80)\n",
        "\n",
        "plt.plot(ns, np.array(results_nu_1), label=f'Epsilon = {eps[0]}')\n",
        "\n",
        "plt.plot(ns, np.array(results_nu_2), label=f'Epsilon = {eps[1]}')\n",
        "\n",
        "plt.plot(ns, np.array(results_nu_4), label=f'Epsilon = {eps[2]}')\n",
        "plt.legend()\n",
        "#plt.xlim(0,3000)\n",
        "plt.xlabel('N samples')\n",
        "plt.ylabel('Power')\n",
        "plt.grid(True)\n",
        "plt.savefig('Rand.png')"
      ],
      "metadata": {
        "colab": {
          "base_uri": "https://localhost:8080/",
          "height": 427
        },
        "id": "ILYcmBE0p2qF",
        "outputId": "23bf39cb-676d-4765-e228-bcdb087f137e"
      },
      "execution_count": 310,
      "outputs": [
        {
          "output_type": "display_data",
          "data": {
            "image/png": "[encoded data removed]",
            "text/plain": [
              "<Figure size 640x480 with 1 Axes>"
            ]
          },
          "metadata": {
            "needs_background": "light"
          }
        }
      ]
    },
    {
      "cell_type": "code",
      "execution_count": null,
      "metadata": {
        "id": "h5Xm0j9ci2bU"
      },
      "outputs": [],
      "source": [
        ""
      ]
    }
  ],
  "metadata": {
    "kernelspec": {
      "display_name": "Python 3",
      "language": "python",
      "name": "python3"
    },
    "language_info": {
      "codemirror_mode": {
        "name": "ipython",
        "version": 3
      },
      "file_extension": ".py",
      "mimetype": "text/x-python",
      "name": "python",
      "nbconvert_exporter": "python",
      "pygments_lexer": "ipython3",
      "version": "3.6.10"
    },
    "colab": {
      "name": "IndRR.ipynb",
      "provenance": []
    }
  },
  "nbformat": 4,
  "nbformat_minor": 0
}